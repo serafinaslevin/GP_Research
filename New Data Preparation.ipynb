{
 "cells": [
  {
   "cell_type": "code",
   "execution_count": 14,
   "id": "1ed4f5d2",
   "metadata": {},
   "outputs": [
    {
     "name": "stdout",
     "output_type": "stream",
     "text": [
      "No NaNs in the dataframe\n"
     ]
    }
   ],
   "source": [
    "#This was created as a way to prepare the data in the new format from Nick\n",
    "#I didnt want to delete my old work incase I needed it, hence the bit of repetition here \n",
    "#running this will re-write the files 'full_df-0.csv', 'ice_thickness.csv', 'ice_velocity.csv', and 'ice_mask.csv'\n",
    "import pandas as pd\n",
    "import numpy as np\n",
    "\n",
    "full_df = pd.read_csv('data/AIS-86Year/vars_all_v2/vars-2015.txt', delimiter = '\\t',\n",
    "                      names=[\"x-axis\", \"y-axis\", \"ice_thickness\", \"ice_velocity\", \"ice_mask\", \n",
    "                             \"precipitation\", \"air_temp\", \"ocean_temp\"])\n",
    "\n",
    "def remove_rows(df):\n",
    "    #this removes rows which have fill values of 9.96920996839e+36 for the column ocean_temp\n",
    "    fill_value = 9.969210e+36\n",
    "    tolerance = 1e-10  \n",
    "    # Use numpy isclose to compare with a tolerance\n",
    "    mask = np.isclose(df['ocean_temp'], fill_value, atol=tolerance)\n",
    "    # Invert the mask to filter out the rows with the fill value\n",
    "    df = df[~mask]\n",
    "    return df\n",
    "\n",
    "\n",
    "full_df = remove_rows(full_df)\n",
    "\n",
    "#impute NaNs to -1 in ice velocity \n",
    "full_df['ice_velocity'] = full_df['ice_velocity'].fillna(-1)\n",
    "\n",
    "#check for any nans in the rest of the data \n",
    "if full_df.isnull().values.any():\n",
    "    print(\"There are NaNs in the dataframe\")\n",
    "else:\n",
    "    print(\"No NaNs in the dataframe\")\n",
    "\n",
    "#reorder dataframe so the targets ice mask, ice velocity, and ice thickness are at the end  \n",
    "column_order = [\"x-axis\", \"y-axis\", \"precipitation\", \"air_temp\", \"ocean_temp\",\n",
    "                \"ice_mask\", \"ice_velocity\", \"ice_thickness\"]\n",
    "full_df = full_df[column_order]\n",
    "\n",
    "#then save three separate files, with each feature/input and one target each\n",
    "full_df.drop(columns=['ice_velocity', 'ice_thickness']).to_csv('data/ice_mask.csv', index=False)\n",
    "full_df.drop(columns=['ice_mask', 'ice_thickness']).to_csv('data/ice_velocity.csv', index=False)\n",
    "full_df.drop(columns=['ice_mask', 'ice_velocity']).to_csv('data/ice_thickness.csv', index=False)\n",
    "\n",
    "#then rerun this program, then rerun the regression "
   ]
  },
  {
   "cell_type": "code",
   "execution_count": null,
   "id": "c86507d2",
   "metadata": {},
   "outputs": [],
   "source": []
  }
 ],
 "metadata": {
  "kernelspec": {
   "display_name": "Python 3 (ipykernel)",
   "language": "python",
   "name": "python3"
  },
  "language_info": {
   "codemirror_mode": {
    "name": "ipython",
    "version": 3
   },
   "file_extension": ".py",
   "mimetype": "text/x-python",
   "name": "python",
   "nbconvert_exporter": "python",
   "pygments_lexer": "ipython3",
   "version": "3.11.5"
  }
 },
 "nbformat": 4,
 "nbformat_minor": 5
}
