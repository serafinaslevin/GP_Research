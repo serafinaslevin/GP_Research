{
 "cells": [
  {
   "cell_type": "code",
   "execution_count": 1,
   "id": "6c2e6a6b-d38f-4f1c-89e5-81a3c21f92e8",
   "metadata": {},
   "outputs": [],
   "source": [
    "import pandas as pd \n",
    "\n",
    "attr = pd.read_csv('AIS_data/precipitation-0.txt', delimiter='\\t', names =[\"x-axis\", \"y-axis\", \"precipitation\"])\n",
    "\n",
    "air_temp = pd.read_csv('AIS_data/air_temp-0.txt', delimiter='\\t', names = [\"x-axis\", \"y-axis\", \"air_temp\"])\n",
    "extracted_col = air_temp[\"air_temp\"]\n",
    "attr = attr.join(extracted_col)\n",
    "\n",
    "ocean_temp = pd.read_csv('AIS_data/theta_ocean-0.txt', delimiter='\\t', names = [\"x-axis\", \"y-axis\", \"ocean_temp\"])\n",
    "extracted_col = ocean_temp[\"ocean_temp\"]\n",
    "attr = attr.join(extracted_col)\n",
    "\n",
    "ocean_salinity = pd.read_csv('AIS_data/salinity_ocean-0.txt', delimiter='\\t', names = [\"x-axis\", \"y-axis\", \"ocean_salinity\"])\n",
    "extracted_col = ocean_salinity[\"ocean_salinity\"]\n",
    "attr = attr.join(extracted_col)\n",
    "\n",
    "\n",
    "\n",
    "ice_thickness = pd.read_csv('AIS_data/thk-0.txt', delimiter='\\t', names = [\"x-axis\", \"y-axis\", \"ice_thickness\"])\n",
    "extracted_col = ice_thickness[\"ice_thickness\"]\n",
    "ice_thickness = attr.join(extracted_col)\n",
    "ice_thickness.to_csv('ice_thickness.csv', index=False)\n",
    "\n",
    "\n",
    "ice_velocity = pd.read_csv('AIS_data/velsurf_mag-0.txt', delimiter='\\t', names = [\"x-axis\", \"y-axis\", \"ice_velocity\"])\n",
    "extracted_col = ice_velocity[\"ice_velocity\"]\n",
    "ice_velocity = attr.join(extracted_col)\n",
    "ice_velocity.to_csv('ice_velocity.csv', index=False)\n",
    "\n",
    "ice_mask = pd.read_csv('AIS_data/mask-0.txt', delimiter='\\t', names = [\"x-axis\", \"y-axis\", \"ice_mask\"])\n",
    "extracted_col = ice_mask[\"ice_mask\"]\n",
    "ice_mask = attr.join(extracted_col)\n",
    "ice_mask.to_csv('ice_mask.csv', index=False)\n"
   ]
  },
  {
   "cell_type": "code",
   "execution_count": null,
   "id": "a66205b7-6a9a-428c-97c5-f95f7a4fb443",
   "metadata": {},
   "outputs": [],
   "source": []
  },
  {
   "cell_type": "code",
   "execution_count": null,
   "id": "0473d55f-40b4-42e7-b183-cd33a785ce6e",
   "metadata": {},
   "outputs": [],
   "source": []
  },
  {
   "cell_type": "code",
   "execution_count": null,
   "id": "97a7e301-8396-4b97-974a-f36be3060e0b",
   "metadata": {},
   "outputs": [],
   "source": []
  }
 ],
 "metadata": {
  "kernelspec": {
   "display_name": "Python 3 (ipykernel)",
   "language": "python",
   "name": "python3"
  },
  "language_info": {
   "codemirror_mode": {
    "name": "ipython",
    "version": 3
   },
   "file_extension": ".py",
   "mimetype": "text/x-python",
   "name": "python",
   "nbconvert_exporter": "python",
   "pygments_lexer": "ipython3",
   "version": "3.11.5"
  }
 },
 "nbformat": 4,
 "nbformat_minor": 5
}
