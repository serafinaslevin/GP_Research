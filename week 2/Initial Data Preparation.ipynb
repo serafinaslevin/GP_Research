{
 "cells": [
  {
   "cell_type": "code",
   "execution_count": 4,
   "id": "1426e130",
   "metadata": {},
   "outputs": [],
   "source": [
    "import pandas as pd\n",
    "\n",
    "# Reading the data files\n",
    "precipitation = pd.read_csv('data/AIS_data/precipitation-0.txt', delimiter='\\t', names=[\"x-axis\", \"y-axis\", \"precipitation\"])\n",
    "air_temp = pd.read_csv('data/AIS_data/air_temp-0.txt', delimiter='\\t', names=[\"x-axis\", \"y-axis\", \"air_temp\"])\n",
    "ocean_temp = pd.read_csv('data/AIS_data/theta_ocean-0.txt', delimiter='\\t', names=[\"x-axis\", \"y-axis\", \"ocean_temp\"])\n",
    "ocean_salinity = pd.read_csv('data/AIS_data/salinity_ocean-0.txt', delimiter='\\t', names=[\"x-axis\", \"y-axis\", \"ocean_salinity\"])\n",
    "ice_thickness = pd.read_csv('data/AIS_data/thk-0.txt', delimiter='\\t', names=[\"x-axis\", \"y-axis\", \"ice_thickness\"])\n",
    "ice_velocity = pd.read_csv('data/AIS_data/velsurf_mag-0.txt', delimiter='\\t', names=[\"x-axis\", \"y-axis\", \"ice_velocity\"])\n",
    "ice_mask = pd.read_csv('data/AIS_data/mask-0.txt', delimiter='\\t', names=[\"x-axis\", \"y-axis\", \"ice_mask\"])\n",
    "\n",
    "# Joining all the dataframes on 'x-axis' and 'y-axis'\n",
    "dfs = [air_temp, ocean_temp, ocean_salinity, ice_thickness, ice_velocity, ice_mask]\n",
    "full_df = precipitation\n",
    "for df in dfs:\n",
    "    full_df = pd.merge(full_df, df, on=[\"x-axis\", \"y-axis\"])\n",
    "\n",
    "# Removing rows where 'ocean_temp' or 'ocean_salinity' is NaN\n",
    "full_df = full_df.dropna(subset=['ocean_temp', 'ocean_salinity'])\n",
    "\n",
    "# Imputing missing values in 'ice_velocity' with -1\n",
    "full_df['ice_velocity'] = full_df['ice_velocity'].fillna(-1)\n",
    "\n",
    "\n",
    "full_df.head()\n",
    "full_df.to_csv('data/full_df-0.csv', index = False)\n",
    "\n",
    "# Common columns for all files\n",
    "common_columns = ['x-axis', 'y-axis', 'precipitation', 'air_temp', 'ocean_temp', 'ocean_salinity']\n",
    "\n",
    "# Creating and saving the first file with 'ice_thickness'\n",
    "ice_thickness_df = full_df[common_columns + ['ice_thickness']]\n",
    "ice_thickness_df.to_csv('data/ice_thickness.csv', index=False)\n",
    "\n",
    "# Creating and saving the second file with 'ice_velocity'\n",
    "ice_velocity_df = full_df[common_columns + ['ice_velocity']]\n",
    "ice_velocity_df.to_csv('data/ice_velocity.csv', index=False)\n",
    "\n",
    "# Creating and saving the third file with 'ice_mask'\n",
    "ice_mask_df = full_df[common_columns + ['ice_mask']]\n",
    "ice_mask_df.to_csv('data/ice_mask.csv', index=False)\n",
    "\n",
    "\n"
   ]
  },
  {
   "cell_type": "code",
   "execution_count": null,
   "id": "50e787fe",
   "metadata": {},
   "outputs": [],
   "source": []
  },
  {
   "cell_type": "code",
   "execution_count": null,
   "id": "e64c9e2c",
   "metadata": {},
   "outputs": [],
   "source": []
  }
 ],
 "metadata": {
  "kernelspec": {
   "display_name": "Python 3 (ipykernel)",
   "language": "python",
   "name": "python3"
  },
  "language_info": {
   "codemirror_mode": {
    "name": "ipython",
    "version": 3
   },
   "file_extension": ".py",
   "mimetype": "text/x-python",
   "name": "python",
   "nbconvert_exporter": "python",
   "pygments_lexer": "ipython3",
   "version": "3.11.5"
  }
 },
 "nbformat": 4,
 "nbformat_minor": 5
}
