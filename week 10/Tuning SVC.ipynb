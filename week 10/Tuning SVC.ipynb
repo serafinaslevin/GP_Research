{
 "cells": [
  {
   "cell_type": "code",
   "execution_count": 8,
   "id": "0714fc61",
   "metadata": {},
   "outputs": [],
   "source": [
    "#in this notebook I am tuning the SVC for predicting ice mask \n",
    "#I will use the original data to be consistent with the tuning for ice velocity and thickness already done \n",
    "\n",
    "\n",
    "import pandas as pd \n",
    "import numpy as np\n",
    "from sklearn.model_selection import train_test_split, GridSearchCV\n",
    "from sklearn.svm import SVC\n",
    "from sklearn.metrics import accuracy_score, confusion_matrix\n",
    "import matplotlib.pyplot as plt\n",
    "\n",
    "original_ice_mask = pd.read_csv('../data/AIS-86Year/vars_all_v2/vars-2015.txt', delimiter = '\\t',\n",
    "                      names=[\"x-axis\", \"y-axis\", \"ice_thickness\", \"ice_velocity\", \"ice_mask\", \n",
    "                             \"precipitation\", \"air_temp\", \"ocean_temp\"])\n",
    "\n",
    "#shifting the columns so the target is the one furthest to the right -> needed for scaling to avoid scaling ice mask\n",
    "original_ice_mask = original_ice_mask[['x-axis', 'y-axis', 'precipitation', 'air_temp','ocean_temp','ice_mask']]\n",
    "\n",
    "#removing fill values in ocean temp, for a fair comparison to the EF data\n",
    "tolerance = 1e+30\n",
    "original_ice_mask = original_ice_mask[(original_ice_mask['ocean_temp'] < (9.969210e+36 - tolerance))]\n",
    "\n",
    "#removing those two rows in the dataset with ice mask = 0 \n",
    "original_ice_mask = original_ice_mask[original_ice_mask['ice_mask']>0]\n",
    "\n",
    "\n",
    "#method to normalise the data -> scale each column between 0 and 1 \n",
    "def scale (df):\n",
    "    \"\"\"uses the formula scaled val = (val-column minimum)/(column maximum - column minimum)\"\"\"\n",
    "    scaled_df = df.copy()\n",
    "    # for column in df.columns[:-1]  -> use this line instead for not having a scaled target \n",
    "    for column in scaled_df.columns[:-1]:\n",
    "        min_value = scaled_df[column].min()\n",
    "        max_value = scaled_df[column].max()\n",
    "        scaled_df[column] = (scaled_df[column] - min_value) / (max_value - min_value)\n",
    "            \n",
    "    return scaled_df"
   ]
  },
  {
   "cell_type": "code",
   "execution_count": 27,
   "id": "112c8d66",
   "metadata": {},
   "outputs": [],
   "source": [
    "from sklearn.svm import SVC\n",
    "from sklearn.metrics import accuracy_score, confusion_matrix\n",
    "from sklearn.model_selection import train_test_split\n",
    "import numpy as np\n",
    "\n",
    "def doPolySVCWithTuning(preprocessed_df, seed, n_runs):\n",
    "    best_params = []\n",
    "    \n",
    "    X = preprocessed_df.iloc[:, :-1]\n",
    "    y = preprocessed_df.iloc[:, -1]\n",
    "        \n",
    "        \n",
    "    for i in range(n_runs):\n",
    "        randomState = i * seed\n",
    "        X_train, X_test, y_train, y_test = train_test_split(X, y, test_size=0.3, random_state=randomState\n",
    "                                                           , stratify = y)\n",
    "\n",
    "        #define the model \n",
    "        model = SVC(kernel='poly', random_state=randomState, class_weight = 'balanced')\n",
    "\n",
    "        # Set up the grid of parameters to search\n",
    "        param_grid = {\n",
    "            'C': [1, 10, 100, 1000],  # Regularization parameter\n",
    "            'degree': [2, 3, 4, 5],  # Degree of the polynomial kernel\n",
    "            'gamma': ['scale', 'auto'],  # Kernel coefficient\n",
    "            'coef0': [1, 5, 10, 15] \n",
    "        }\n",
    "            \n",
    "        # Set up the grid search\n",
    "        grid_search = GridSearchCV(estimator=model, param_grid=param_grid, cv=3, n_jobs=-1, verbose=1)\n",
    "\n",
    "        # Fit the grid search to the data\n",
    "        grid_search.fit(X_train, y_train)\n",
    "        \n",
    "        #store the best params from this run \n",
    "        best_params.append(grid_search.cv_results_['params'][grid_search.best_index_])\n",
    "\n",
    "    print(\"Best Parameters per Run:\", best_params)\n",
    "\n",
    "    return best_params, param_grid\n",
    "        \n"
   ]
  },
  {
   "cell_type": "code",
   "execution_count": 28,
   "id": "07155121",
   "metadata": {},
   "outputs": [
    {
     "name": "stdout",
     "output_type": "stream",
     "text": [
      "Fitting 3 folds for each of 128 candidates, totalling 384 fits\n",
      "Fitting 3 folds for each of 128 candidates, totalling 384 fits\n",
      "Fitting 3 folds for each of 128 candidates, totalling 384 fits\n",
      "Fitting 3 folds for each of 128 candidates, totalling 384 fits\n",
      "Fitting 3 folds for each of 128 candidates, totalling 384 fits\n",
      "Fitting 3 folds for each of 128 candidates, totalling 384 fits\n",
      "Fitting 3 folds for each of 128 candidates, totalling 384 fits\n",
      "Fitting 3 folds for each of 128 candidates, totalling 384 fits\n",
      "Fitting 3 folds for each of 128 candidates, totalling 384 fits\n",
      "Fitting 3 folds for each of 128 candidates, totalling 384 fits\n",
      "Fitting 3 folds for each of 128 candidates, totalling 384 fits\n",
      "Fitting 3 folds for each of 128 candidates, totalling 384 fits\n",
      "Fitting 3 folds for each of 128 candidates, totalling 384 fits\n",
      "Fitting 3 folds for each of 128 candidates, totalling 384 fits\n",
      "Fitting 3 folds for each of 128 candidates, totalling 384 fits\n",
      "Fitting 3 folds for each of 128 candidates, totalling 384 fits\n",
      "Fitting 3 folds for each of 128 candidates, totalling 384 fits\n",
      "Fitting 3 folds for each of 128 candidates, totalling 384 fits\n",
      "Fitting 3 folds for each of 128 candidates, totalling 384 fits\n",
      "Fitting 3 folds for each of 128 candidates, totalling 384 fits\n",
      "Fitting 3 folds for each of 128 candidates, totalling 384 fits\n",
      "Fitting 3 folds for each of 128 candidates, totalling 384 fits\n",
      "Fitting 3 folds for each of 128 candidates, totalling 384 fits\n",
      "Fitting 3 folds for each of 128 candidates, totalling 384 fits\n",
      "Fitting 3 folds for each of 128 candidates, totalling 384 fits\n",
      "Fitting 3 folds for each of 128 candidates, totalling 384 fits\n",
      "Fitting 3 folds for each of 128 candidates, totalling 384 fits\n",
      "Fitting 3 folds for each of 128 candidates, totalling 384 fits\n",
      "Fitting 3 folds for each of 128 candidates, totalling 384 fits\n",
      "Fitting 3 folds for each of 128 candidates, totalling 384 fits\n",
      "Best Parameters per Run: [{'C': 10, 'coef0': 10, 'degree': 4, 'gamma': 'scale'}, {'C': 100, 'coef0': 1, 'degree': 5, 'gamma': 'scale'}, {'C': 1000, 'coef0': 5, 'degree': 5, 'gamma': 'scale'}, {'C': 1000, 'coef0': 1, 'degree': 4, 'gamma': 'scale'}, {'C': 1000, 'coef0': 10, 'degree': 5, 'gamma': 'scale'}, {'C': 1000, 'coef0': 1, 'degree': 4, 'gamma': 'scale'}, {'C': 1000, 'coef0': 1, 'degree': 5, 'gamma': 'scale'}, {'C': 100, 'coef0': 5, 'degree': 5, 'gamma': 'scale'}, {'C': 1000, 'coef0': 1, 'degree': 5, 'gamma': 'scale'}, {'C': 100, 'coef0': 5, 'degree': 5, 'gamma': 'scale'}, {'C': 1000, 'coef0': 1, 'degree': 5, 'gamma': 'scale'}, {'C': 100, 'coef0': 10, 'degree': 5, 'gamma': 'scale'}, {'C': 100, 'coef0': 5, 'degree': 5, 'gamma': 'scale'}, {'C': 100, 'coef0': 10, 'degree': 5, 'gamma': 'scale'}, {'C': 100, 'coef0': 5, 'degree': 5, 'gamma': 'scale'}, {'C': 1000, 'coef0': 1, 'degree': 4, 'gamma': 'scale'}, {'C': 100, 'coef0': 10, 'degree': 5, 'gamma': 'scale'}, {'C': 1000, 'coef0': 1, 'degree': 5, 'gamma': 'scale'}, {'C': 100, 'coef0': 5, 'degree': 5, 'gamma': 'scale'}, {'C': 1000, 'coef0': 10, 'degree': 5, 'gamma': 'scale'}, {'C': 1000, 'coef0': 5, 'degree': 5, 'gamma': 'scale'}, {'C': 1000, 'coef0': 5, 'degree': 5, 'gamma': 'scale'}, {'C': 10, 'coef0': 5, 'degree': 5, 'gamma': 'scale'}, {'C': 1000, 'coef0': 10, 'degree': 4, 'gamma': 'scale'}, {'C': 1000, 'coef0': 1, 'degree': 5, 'gamma': 'scale'}, {'C': 1000, 'coef0': 5, 'degree': 5, 'gamma': 'scale'}, {'C': 1000, 'coef0': 10, 'degree': 5, 'gamma': 'scale'}, {'C': 1000, 'coef0': 5, 'degree': 5, 'gamma': 'scale'}, {'C': 100, 'coef0': 15, 'degree': 5, 'gamma': 'scale'}, {'C': 1000, 'coef0': 5, 'degree': 5, 'gamma': 'scale'}]\n"
     ]
    }
   ],
   "source": [
    "seed = 101\n",
    "scaled_df = scale(original_ice_mask)\n",
    "n_runs = 30\n",
    "best_params, param_grid = doPolySVCWithTuning(scaled_df, seed, n_runs)\n"
   ]
  },
  {
   "cell_type": "code",
   "execution_count": 29,
   "id": "4ed86bee",
   "metadata": {},
   "outputs": [
    {
     "name": "stdout",
     "output_type": "stream",
     "text": [
      "param counts\n",
      "C\n",
      "1        0\n",
      "10       2\n",
      "100     10\n",
      "1000    18\n",
      "Name: count, dtype: int64\n"
     ]
    },
    {
     "data": {
      "image/png": "[encoded data removed]",
      "text/plain": [
       "<Figure size 800x400 with 1 Axes>"
      ]
     },
     "metadata": {},
     "output_type": "display_data"
    },
    {
     "name": "stdout",
     "output_type": "stream",
     "text": [
      "param counts\n",
      "degree\n",
      "2     0\n",
      "3     0\n",
      "4     5\n",
      "5    25\n",
      "Name: count, dtype: int64\n"
     ]
    },
    {
     "data": {
      "image/png": "[encoded data removed]",
      "text/plain": [
       "<Figure size 800x400 with 1 Axes>"
      ]
     },
     "metadata": {},
     "output_type": "display_data"
    },
    {
     "name": "stdout",
     "output_type": "stream",
     "text": [
      "param counts\n",
      "gamma\n",
      "scale    30\n",
      "auto      0\n",
      "Name: count, dtype: int64\n"
     ]
    },
    {
     "data": {
      "image/png": "[encoded data removed]",
      "text/plain": [
       "<Figure size 800x400 with 1 Axes>"
      ]
     },
     "metadata": {},
     "output_type": "display_data"
    },
    {
     "name": "stdout",
     "output_type": "stream",
     "text": [
      "param counts\n",
      "coef0\n",
      "1      9\n",
      "5     12\n",
      "10     8\n",
      "15     1\n",
      "Name: count, dtype: int64\n"
     ]
    },
    {
     "data": {
      "image/png": "[encoded data removed]",
      "text/plain": [
       "<Figure size 800x400 with 1 Axes>"
      ]
     },
     "metadata": {},
     "output_type": "display_data"
    }
   ],
   "source": [
    "import matplotlib.pyplot as plt\n",
    "\n",
    "def visualize_parameter_distribution_no_grid(param_dict, param_grid, n_runs):\n",
    "    # Convert 'None' to string 'None' for 'max_depth'\n",
    "    for d in param_dict:\n",
    "        if 'max_depth' in d and d['max_depth'] is None:\n",
    "            d['max_depth'] = 'None'\n",
    "    \n",
    "    # Convert the dictionary to a DataFrame for easier manipulation\n",
    "    df = pd.DataFrame(param_dict)\n",
    "\n",
    "    # Loop through each parameter in the grid and create separate bar charts\n",
    "    for param, values in param_grid.items():\n",
    "        \n",
    "        if param == \"max_depth\":\n",
    "            values = ['None' if v is None else v for v in values]\n",
    "            \n",
    "        \n",
    "        # Count the occurrences of each parameter value in the dictionary\n",
    "        param_counts = df[param].value_counts().reindex(values, fill_value=0)\n",
    "        print(\"param counts\")\n",
    "        print(param_counts)\n",
    "        # Plot the bar chart for the parameter\n",
    "        plt.figure(figsize=(8, 4))\n",
    "        plt.bar(param_counts.index.astype(str), param_counts.values, color='skyblue')\n",
    "        plt.title(f'Distribution of {param}')\n",
    "        plt.xlabel(param)\n",
    "        plt.ylabel('Count')\n",
    "        plt.ylim(0, n_runs)  # Set y-axis limit to n_runs\n",
    "        plt.show()\n",
    "\n",
    "# Call the function with the 'n_runs' parameter\n",
    "n_runs=30\n",
    "visualize_parameter_distribution_no_grid(best_params, param_grid, n_runs)"
   ]
  },
  {
   "cell_type": "code",
   "execution_count": 37,
   "id": "f623f030",
   "metadata": {},
   "outputs": [
    {
     "name": "stdout",
     "output_type": "stream",
     "text": [
      "0\n",
      "1\n",
      "2\n",
      "3\n",
      "4\n",
      "5\n",
      "6\n",
      "7\n",
      "8\n",
      "9\n",
      "10\n",
      "11\n",
      "12\n",
      "13\n",
      "14\n",
      "15\n",
      "16\n",
      "17\n",
      "18\n",
      "19\n",
      "20\n",
      "21\n",
      "22\n",
      "23\n",
      "24\n",
      "25\n",
      "26\n",
      "27\n",
      "28\n",
      "29\n",
      "Average Training Accuracy: 0.943, Std: 0.004\n",
      "Training Category Metrics:\n",
      "  grounded_ice: Avg: 0.868, Std: 0.010\n",
      "  floating_ice: Avg: 0.998, Std: 0.007\n",
      "  open_ocean: Avg: 0.987, Std: 0.004\n",
      "\n",
      "Average Test Accuracy: 0.926, Std: 0.008\n",
      "Test Category Metrics:\n",
      "  grounded_ice: Avg: 0.853, Std: 0.018\n",
      "  floating_ice: Avg: 0.790, Std: 0.081\n",
      "  open_ocean: Avg: 0.980, Std: 0.007\n"
     ]
    }
   ],
   "source": [
    "def doTunedPolySVC(preprocessed_df, seed, n_runs):\n",
    "    overall_accuracies = []\n",
    "    training_accuracies = []\n",
    "    category_accuracies = {'grounded_ice': [], 'floating_ice': [], 'open_ocean': []}\n",
    "    training_category_accuracies = {'grounded_ice': [], 'floating_ice': [], 'open_ocean': []}\n",
    "\n",
    "    for i in range(n_runs):\n",
    "        print(i)\n",
    "        randomState = i * seed\n",
    "        X = preprocessed_df.iloc[:, :-1]\n",
    "        y = preprocessed_df.iloc[:, -1]\n",
    "        X_train, X_test, y_train, y_test = train_test_split(X, y, test_size=0.3, random_state=randomState)\n",
    "        \n",
    "        model = SVC(kernel='poly', random_state=randomState, class_weight = 'balanced', \n",
    "                   degree = 5, gamma = 'scale', C = 0.1, coef0 = 5)\n",
    "        model.fit(X_train, y_train)\n",
    "        \n",
    "        # Test data evaluation\n",
    "        y_predicted = model.predict(X_test)\n",
    "        test_accuracy = accuracy_score(y_test, y_predicted)\n",
    "        overall_accuracies.append(test_accuracy)\n",
    "        \n",
    "        test_cm = confusion_matrix(y_test, y_predicted, labels=[2.0, 3.0, 4.0])\n",
    "        category_accuracies['grounded_ice'].append(test_cm[0, 0] / test_cm[0, :].sum() if test_cm[0, :].sum() > 0 else 0)\n",
    "        category_accuracies['floating_ice'].append(test_cm[1, 1] / test_cm[1, :].sum() if test_cm[1, :].sum() > 0 else 0)\n",
    "        category_accuracies['open_ocean'].append(test_cm[2, 2] / test_cm[2, :].sum() if test_cm[2, :].sum() > 0 else 0)\n",
    "\n",
    "        # Training data evaluation\n",
    "        y_train_predicted = model.predict(X_train)\n",
    "        train_accuracy = accuracy_score(y_train, y_train_predicted)\n",
    "        training_accuracies.append(train_accuracy)\n",
    "\n",
    "        train_cm = confusion_matrix(y_train, y_train_predicted, labels=[2.0, 3.0, 4.0])\n",
    "        training_category_accuracies['grounded_ice'].append(train_cm[0, 0] / train_cm[0, :].sum() if train_cm[0, :].sum() > 0 else 0)\n",
    "        training_category_accuracies['floating_ice'].append(train_cm[1, 1] / train_cm[1, :].sum() if train_cm[1, :].sum() > 0 else 0)\n",
    "        training_category_accuracies['open_ocean'].append(train_cm[2, 2] / train_cm[2, :].sum() if train_cm[2, :].sum() > 0 else 0)\n",
    "\n",
    "    # Calculate averages and standard deviations\n",
    "    average_accuracy = np.mean(overall_accuracies)\n",
    "    std_accuracy = np.std(overall_accuracies)\n",
    "    average_training_accuracy = np.mean(training_accuracies)\n",
    "    std_training_accuracy = np.std(training_accuracies)\n",
    "\n",
    "    average_category_accuracies = {k: np.mean(v) for k, v in category_accuracies.items()}\n",
    "    std_category_accuracies = {k: np.std(v) for k, v in category_accuracies.items()}\n",
    "    average_training_category_accuracies = {k: np.mean(v) for k, v in training_category_accuracies.items()}\n",
    "    std_training_category_accuracies = {k: np.std(v) for k, v in training_category_accuracies.items()}\n",
    "\n",
    "    # Print average and standard deviation of accuracies\n",
    "    print(f\"Average Training Accuracy: {average_training_accuracy:.3f}, Std: {std_training_accuracy:.3f}\")\n",
    "    print(\"Training Category Metrics:\")\n",
    "    for category in training_category_accuracies:\n",
    "        print(f\"  {category}: Avg: {average_training_category_accuracies[category]:.3f}, Std: {std_training_category_accuracies[category]:.3f}\") \n",
    "\n",
    "    print(f\"\\nAverage Test Accuracy: {average_accuracy:.3f}, Std: {std_accuracy:.3f}\")\n",
    "    print(\"Test Category Metrics:\")\n",
    "    for category in category_accuracies:\n",
    "        print(f\"  {category}: Avg: {average_category_accuracies[category]:.3f}, Std: {std_category_accuracies[category]:.3f}\")\n",
    "    \n",
    "seed = 101\n",
    "scaled_df = scale(original_ice_mask)\n",
    "n_runs = 30\n",
    "doTunedPolySVC(scaled_df, seed, n_runs)"
   ]
  },
  {
   "cell_type": "code",
   "execution_count": null,
   "id": "b712ffcf",
   "metadata": {},
   "outputs": [],
   "source": []
  }
 ],
 "metadata": {
  "kernelspec": {
   "display_name": "Python 3 (ipykernel)",
   "language": "python",
   "name": "python3"
  },
  "language_info": {
   "codemirror_mode": {
    "name": "ipython",
    "version": 3
   },
   "file_extension": ".py",
   "mimetype": "text/x-python",
   "name": "python",
   "nbconvert_exporter": "python",
   "pygments_lexer": "ipython3",
   "version": "3.11.5"
  }
 },
 "nbformat": 4,
 "nbformat_minor": 5
}
